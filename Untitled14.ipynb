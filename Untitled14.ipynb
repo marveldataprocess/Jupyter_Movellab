{
 "cells": [
  {
   "cell_type": "code",
   "execution_count": null,
   "id": "cded0085-0607-4d5e-aa56-ad7ebe89d2bc",
   "metadata": {},
   "outputs": [],
   "source": []
  }
 ],
 "metadata": {
  "kernelspec": {
   "display_name": "movellab",
   "language": "python",
   "name": "movellab"
  },
  "language_info": {
   "codemirror_mode": {
    "name": "ipython",
    "version": 3
   },
   "file_extension": ".py",
   "mimetype": "text/x-python",
   "name": "python",
   "nbconvert_exporter": "python",
   "pygments_lexer": "ipython3",
   "version": "3.9.7"
  }
 },
 "nbformat": 4,
 "nbformat_minor": 5
}
