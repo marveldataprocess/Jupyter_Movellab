{
 "cells": [
  {
   "cell_type": "code",
   "execution_count": null,
   "id": "4e3a69a0-d594-4b15-8901-9da348d0422b",
   "metadata": {},
   "outputs": [],
   "source": []
  }
 ],
 "metadata": {
  "kernelspec": {
   "display_name": "movellab",
   "language": "python",
   "name": "movellab"
  },
  "language_info": {
   "codemirror_mode": {
    "name": "ipython",
    "version": 3
   },
   "file_extension": ".py",
   "mimetype": "text/x-python",
   "name": "python",
   "nbconvert_exporter": "python",
   "pygments_lexer": "ipython3",
   "version": "3.9.7"
  }
 },
 "nbformat": 4,
 "nbformat_minor": 5
}
